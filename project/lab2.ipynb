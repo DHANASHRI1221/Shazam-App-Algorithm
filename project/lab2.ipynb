{
 "cells": [
  {
   "cell_type": "markdown",
   "metadata": {},
   "source": [
    "$$$Lab 2"
   ]
  },
  {
   "cell_type": "markdown",
   "metadata": {},
   "source": [
    "### Lab 2 ~"
   ]
  },
  {
   "cell_type": "markdown",
   "metadata": {},
   "source": [
    "Points:\n",
    "Musical notes are defined by their position on the staff (frequency) and note type (duration).\n",
    "Frequencies for notes in the middle C octave are provided."
   ]
  },
  {
   "cell_type": "markdown",
   "metadata": {},
   "source": [
    "For generating Node writing helper Functions:"
   ]
  },
  {
   "cell_type": "code",
   "execution_count": 10,
   "metadata": {},
   "outputs": [],
   "source": [
    "import numpy as np\n",
    "\n",
    "def get_instrument():\n",
    "    # Define harmonic amplitudes for a more complex instrument\n",
    "    harmonics = [1.0, 0.5, 0.25, 0.1]  # Fundamental + three harmonics\n",
    "\n",
    "    # Define the note envelope with an ADSR (Attack-Decay-Sustain-Release) shape\n",
    "    def envelope(t, d):\n",
    "        attack_time = 0.1 * d\n",
    "        decay_time = 0.1 * d\n",
    "        sustain_level = 0.7\n",
    "        release_time = 0.2 * d\n",
    "        sustain_time = d - (attack_time + decay_time + release_time)\n",
    "\n",
    "        env = np.zeros_like(t)\n",
    "        env[t < attack_time] = t[t < attack_time] / attack_time\n",
    "        env[(t >= attack_time) & (t < attack_time + decay_time)] = (\n",
    "            1 - (1 - sustain_level) * (t[(t >= attack_time) & (t < attack_time + decay_time)] - attack_time) / decay_time\n",
    "        )\n",
    "        env[(t >= attack_time + decay_time) & (t < attack_time + decay_time + sustain_time)] = sustain_level\n",
    "        env[(t >= attack_time + decay_time + sustain_time) & (t < d)] = sustain_level * (\n",
    "            1 - (t[(t >= attack_time + decay_time + sustain_time) & (t < d)] - (attack_time + decay_time + sustain_time)) / release_time\n",
    "        )\n",
    "\n",
    "        return env\n",
    "\n",
    "    return harmonics, envelope\n"
   ]
  },
  {
   "cell_type": "code",
   "execution_count": 7,
   "metadata": {},
   "outputs": [],
   "source": [
    "def generate_note(frequency, duration, amplitude, harmonics, envelope, fs):\n",
    "    t = np.arange(0, duration, 1/fs)\n",
    "    waveform = np.zeros_like(t)\n",
    "    \n",
    "    # Add fundamental and harmonics\n",
    "    for i, h in enumerate(harmonics):\n",
    "        waveform += h * np.sin(2 * np.pi * (i + 1) * frequency * t)\n",
    "    \n",
    "    # Apply envelope\n",
    "    env = envelope(t, duration)\n",
    "    waveform *= env\n",
    "    \n",
    "    return amplitude * waveform\n"
   ]
  },
  {
   "cell_type": "markdown",
   "metadata": {},
   "source": [
    "Final Merging all codes together for generating score waveform"
   ]
  },
  {
   "cell_type": "code",
   "execution_count": 12,
   "metadata": {},
   "outputs": [
    {
     "data": {
      "image/png": "[encoded data removed]",
      "text/plain": [
       "<Figure size 640x480 with 1 Axes>"
      ]
     },
     "metadata": {},
     "output_type": "display_data"
    }
   ],
   "source": [
    "import numpy as np\n",
    "import matplotlib.pyplot as plt\n",
    "import sounddevice as sd\n",
    "\n",
    "# Instrument definition\n",
    "def get_instrument():\n",
    "    # Harmonics: fundamental + three harmonics\n",
    "    harmonics = [1.0, 0.5, 0.25, 0.1]\n",
    "\n",
    "    # ADSR envelope function\n",
    "    def envelope(t, d):\n",
    "        attack_time = 0.1 * d  # 10% of the duration\n",
    "        decay_time = 0.1 * d   # 10% of the duration\n",
    "        sustain_level = 0.7    # Sustain level at 70% of the peak\n",
    "        release_time = 0.2 * d # 20% of the duration\n",
    "        sustain_time = d - (attack_time + decay_time + release_time)  # Remaining time for sustain\n",
    "\n",
    "        env = np.zeros_like(t)\n",
    "        env[t < attack_time] = t[t < attack_time] / attack_time\n",
    "        env[(t >= attack_time) & (t < attack_time + decay_time)] = (\n",
    "            1 - (1 - sustain_level) * (t[(t >= attack_time) & (t < attack_time + decay_time)] - attack_time) / decay_time\n",
    "        )\n",
    "        env[(t >= attack_time + decay_time) & (t < attack_time + decay_time + sustain_time)] = sustain_level\n",
    "        env[(t >= attack_time + decay_time + sustain_time) & (t < d)] = sustain_level * (\n",
    "            1 - (t[(t >= attack_time + decay_time + sustain_time) & (t < d)] - (attack_time + decay_time + sustain_time)) / release_time\n",
    "        )\n",
    "\n",
    "        return env\n",
    "\n",
    "    return harmonics, envelope\n",
    "\n",
    "# Note generation\n",
    "def generate_note(frequency, duration, amplitude, harmonics, envelope, fs):\n",
    "    t = np.arange(0, duration, 1/fs)\n",
    "    waveform = np.zeros_like(t)\n",
    "    \n",
    "    for i, h in enumerate(harmonics):\n",
    "        waveform += h * np.sin(2 * np.pi * (i + 1) * frequency * t)\n",
    "    \n",
    "    env = envelope(t, duration)\n",
    "    waveform *= env\n",
    "    \n",
    "    return amplitude * waveform\n",
    "\n",
    "# Music synthesis\n",
    "def mkmusic():\n",
    "    plt.close('all')\n",
    "    \n",
    "    notes = {\n",
    "        'A': 220.0, 'As': 233.08, 'B': 246.94, 'C': 261.63, 'Cs': 277.18, \n",
    "        'D': 293.66, 'Ds': 311.13, 'E': 329.63, 'F': 349.23, 'Fs': 369.99, \n",
    "        'G': 392.00, 'Gs': 415.30, 'A2': 440.00\n",
    "    }\n",
    "\n",
    "    harmonics, envelope = get_instrument()\n",
    "\n",
    "    # Note frequencies, durations, and amplitudes\n",
    "    nf = [notes[note] for note in ['G', 'E', 'D', 'C', 'D', 'E', 'G', 'E', 'D', 'C', 'D', 'E', 'G', 'E', 'G', 'A2', 'E', 'A2', 'G', 'E', 'D', 'C']]\n",
    "    nd = [4, 4, 4, 4, 4, 4, 4, 4, 4, 4, 4, 4, 4, 4, 4, 4, 4, 4, 4, 4, 4, 4/5]\n",
    "    na = [1] * len(nf)\n",
    "    TD = 1.5  # Duration of one whole note in seconds\n",
    "    fs = 44100  # Sampling frequency\n",
    "    \n",
    "    total_duration = sum(TD / d for d in nd)\n",
    "    total_samples = int(total_duration * fs)\n",
    "    \n",
    "    score_waveform = np.zeros(total_samples)\n",
    "    pointer = 0\n",
    "    \n",
    "    for frequency, duration, amplitude in zip(nf, nd, na):\n",
    "        note_waveform = generate_note(frequency, TD / duration, amplitude, harmonics, envelope, fs)\n",
    "        note_samples = len(note_waveform)\n",
    "        \n",
    "        # Ensure note waveform fits into the remaining score waveform\n",
    "        if pointer + note_samples > total_samples:\n",
    "            note_waveform = note_waveform[:total_samples - pointer]\n",
    "        \n",
    "        score_waveform[pointer:pointer+note_samples] += note_waveform\n",
    "        pointer += note_samples\n",
    "    \n",
    "    # Time array for plotting\n",
    "    t = np.arange(0, len(score_waveform)) / fs\n",
    "    plt.plot(t, score_waveform)\n",
    "    plt.xlabel('Time [s]')\n",
    "    plt.ylabel('Amplitude')\n",
    "    plt.title('Score Waveform')\n",
    "    plt.show()\n",
    "    \n",
    "    # Play the generated score waveform\n",
    "    sd.play(score_waveform, fs)\n",
    "    sd.wait()\n",
    "\n",
    "# Run the music synthesis\n",
    "mkmusic()\n"
   ]
  },
  {
   "cell_type": "markdown",
   "metadata": {},
   "source": [
    "Real instruments have at least two additional important characteristics. First, when a particular\n",
    "note is played not only is the fundamental frequency is generated but also higher harmonics\n",
    "of the fundamental. The amplitudes of the harmonics are usually significantly less than that\n",
    "of the fundamental.In addition to harmonics, the instrument also produces a characteristic note envelope."
   ]
  },
  {
   "cell_type": "markdown",
   "metadata": {},
   "source": [
    "Generating a Single Note: Define frequency, duration, and amplitude.\n",
    "Combining Notes: Use loops and appropriate delays to combine individual notes into a musical piece.\n",
    "Saving and Playing Music: Store the synthesized music in .wav format and play it using an audio player."
   ]
  },
  {
   "cell_type": "code",
   "execution_count": 2,
   "metadata": {},
   "outputs": [
    {
     "name": "stdout",
     "output_type": "stream",
     "text": [
      "Collecting sounddevice\n",
      "  Downloading sounddevice-0.4.7-py3-none-win_amd64.whl.metadata (1.4 kB)\n",
      "Requirement already satisfied: CFFI>=1.0 in c:\\users\\dhanashri\\appdata\\local\\programs\\python\\python311\\lib\\site-packages (from sounddevice) (1.16.0)\n",
      "Requirement already satisfied: pycparser in c:\\users\\dhanashri\\appdata\\local\\programs\\python\\python311\\lib\\site-packages (from CFFI>=1.0->sounddevice) (2.21)\n",
      "Downloading sounddevice-0.4.7-py3-none-win_amd64.whl (200 kB)\n",
      "   ---------------------------------------- 0.0/200.1 kB ? eta -:--:--\n",
      "   ---------------------------------------- 0.0/200.1 kB ? eta -:--:--\n",
      "   -- ------------------------------------- 10.2/200.1 kB ? eta -:--:--\n",
      "   ----- --------------------------------- 30.7/200.1 kB 660.6 kB/s eta 0:00:01\n",
      "   ----------- --------------------------- 61.4/200.1 kB 469.7 kB/s eta 0:00:01\n",
      "   ------------- ------------------------- 71.7/200.1 kB 393.8 kB/s eta 0:00:01\n",
      "   --------------------- ---------------- 112.6/200.1 kB 547.6 kB/s eta 0:00:01\n",
      "   --------------------------- ---------- 143.4/200.1 kB 607.9 kB/s eta 0:00:01\n",
      "   ------------------------------------ - 194.6/200.1 kB 655.9 kB/s eta 0:00:01\n",
      "   -------------------------------------- 200.1/200.1 kB 608.5 kB/s eta 0:00:00\n",
      "Installing collected packages: sounddevice\n",
      "Successfully installed sounddevice-0.4.7\n",
      "Note: you may need to restart the kernel to use updated packages.\n"
     ]
    }
   ],
   "source": [
    "pip install sounddevice"
   ]
  }
 ],
 "metadata": {
  "kernelspec": {
   "display_name": "Python 3",
   "language": "python",
   "name": "python3"
  },
  "language_info": {
   "codemirror_mode": {
    "name": "ipython",
    "version": 3
   },
   "file_extension": ".py",
   "mimetype": "text/x-python",
   "name": "python",
   "nbconvert_exporter": "python",
   "pygments_lexer": "ipython3",
   "version": "3.11.4"
  }
 },
 "nbformat": 4,
 "nbformat_minor": 2
}
